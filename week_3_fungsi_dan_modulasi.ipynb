{
  "nbformat": 4,
  "nbformat_minor": 0,
  "metadata": {
    "colab": {
      "provenance": [],
      "mount_file_id": "1TEnjw27UgCfSmtZT1SJgml7SsbS3lMod",
      "authorship_tag": "ABX9TyMcDjxlgwyCV6Vwecw4CWFL",
      "include_colab_link": true
    },
    "kernelspec": {
      "name": "python3",
      "display_name": "Python 3"
    },
    "language_info": {
      "name": "python"
    }
  },
  "cells": [
    {
      "cell_type": "markdown",
      "metadata": {
        "id": "view-in-github",
        "colab_type": "text"
      },
      "source": [
        "<a href=\"https://colab.research.google.com/github/rahmatul124120029-tech/Teknik-Pemrograman-TG25-21002-ITERA/blob/main/week_3_fungsi_dan_modulasi.ipynb\" target=\"_parent\"><img src=\"https://colab.research.google.com/assets/colab-badge.svg\" alt=\"Open In Colab\"/></a>"
      ]
    },
    {
      "cell_type": "code",
      "execution_count": 1,
      "metadata": {
        "id": "9wgGgquo_nHl"
      },
      "outputs": [],
      "source": [
        "def sapa(nama):\n",
        "  print(f\"halo {nama}, apa kabar!\")"
      ]
    },
    {
      "cell_type": "code",
      "source": [
        "nama = \"ismail\"\n",
        "sapa(nama)"
      ],
      "metadata": {
        "colab": {
          "base_uri": "https://localhost:8080/"
        },
        "id": "ENImy2KfAvkf",
        "outputId": "8e5f4bbf-805a-49a0-8afb-e6945c002e03"
      },
      "execution_count": 2,
      "outputs": [
        {
          "output_type": "stream",
          "name": "stdout",
          "text": [
            "halo ismail, apa kabar!\n"
          ]
        }
      ]
    },
    {
      "cell_type": "code",
      "source": [
        "def luas_persegi(sisi):\n",
        "  luas = sisi*sisi\n",
        "  return luas"
      ],
      "metadata": {
        "id": "XNpqT8A_BIA6"
      },
      "execution_count": 3,
      "outputs": []
    },
    {
      "cell_type": "code",
      "source": [
        "hasil = luas_persegi(4)\n",
        "\n",
        "print(hasil)"
      ],
      "metadata": {
        "colab": {
          "base_uri": "https://localhost:8080/"
        },
        "id": "ZKLYTBThBZaM",
        "outputId": "99cb78d8-0c0c-466e-b771-a3237f4e4749"
      },
      "execution_count": 4,
      "outputs": [
        {
          "output_type": "stream",
          "name": "stdout",
          "text": [
            "16\n"
          ]
        }
      ]
    },
    {
      "cell_type": "code",
      "source": [
        "03 fungsi defoult(*)"
      ],
      "metadata": {
        "id": "6XiceXuPB4M7"
      },
      "execution_count": null,
      "outputs": []
    },
    {
      "cell_type": "code",
      "source": [
        "def gaya_gravitasi(m1, m2, r, G=6.7e-11):\n",
        "  F = G*(m1*m2/r**2)\n",
        "  return F"
      ],
      "metadata": {
        "id": "2NvG16qiCQOP"
      },
      "execution_count": 19,
      "outputs": []
    },
    {
      "cell_type": "code",
      "source": [
        "gaya_gravitasi(100, 200, 0.1, G=100)"
      ],
      "metadata": {
        "colab": {
          "base_uri": "https://localhost:8080/"
        },
        "id": "wsBvnTZRCaA_",
        "outputId": "d0f9dd08-7454-404a-81e5-d275e14d5f16"
      },
      "execution_count": 10,
      "outputs": [
        {
          "output_type": "execute_result",
          "data": {
            "text/plain": [
              "199999999.99999994"
            ]
          },
          "metadata": {},
          "execution_count": 10
        }
      ]
    },
    {
      "cell_type": "code",
      "source": [
        "04 fungsi dengan pointer(*)"
      ],
      "metadata": {
        "id": "HwRpu3KwDVew"
      },
      "execution_count": null,
      "outputs": []
    },
    {
      "cell_type": "code",
      "source": [
        "def total(*args):\n",
        "  return sum(args)"
      ],
      "metadata": {
        "id": "XrzUTRBYDxSe"
      },
      "execution_count": 14,
      "outputs": []
    },
    {
      "cell_type": "code",
      "source": [
        "args = total(1, 2, 3, 4, 5, 6)"
      ],
      "metadata": {
        "id": "jtRe644dEJ-C"
      },
      "execution_count": 15,
      "outputs": []
    },
    {
      "cell_type": "code",
      "source": [
        "print(args)"
      ],
      "metadata": {
        "colab": {
          "base_uri": "https://localhost:8080/"
        },
        "id": "kVQnl3a0EaYf",
        "outputId": "c74e9ff9-fde3-4660-aa10-06a3495e5196"
      },
      "execution_count": 16,
      "outputs": [
        {
          "output_type": "stream",
          "name": "stdout",
          "text": [
            "21\n"
          ]
        }
      ]
    },
    {
      "cell_type": "code",
      "source": [
        "challenge 01"
      ],
      "metadata": {
        "id": "bwXlpEqDIitV"
      },
      "execution_count": null,
      "outputs": []
    },
    {
      "cell_type": "code",
      "source": [
        "harga = 120.000\n",
        "diskon 10.000 -> 20%"
      ],
      "metadata": {
        "id": "gI9jcHPdHy1D"
      },
      "execution_count": null,
      "outputs": []
    },
    {
      "cell_type": "code",
      "source": [
        "def harga_diskon(harga, min_harga=100000, diskon=20%):\n",
        "  if harga > min_harga:\n",
        "    potongan_harga = (diskon*harga)/100\n",
        "  else:\n",
        "    potongan_harga = 0\n",
        "\n",
        "  return harga - potongan_harga\n"
      ],
      "metadata": {
        "id": "o-Gymy3FFMoC"
      },
      "execution_count": null,
      "outputs": []
    },
    {
      "cell_type": "code",
      "source": [
        "harga_diskon(120000)"
      ],
      "metadata": {
        "id": "eWv_NjscHPeA"
      },
      "execution_count": null,
      "outputs": []
    },
    {
      "cell_type": "code",
      "source": [
        "05 lambda (*)"
      ],
      "metadata": {
        "id": "g_UaciX3IFwk"
      },
      "execution_count": null,
      "outputs": []
    },
    {
      "cell_type": "code",
      "source": [
        "luas = lambda sisi : sisi*sisi\n",
        "\n",
        "print(luas(10))"
      ],
      "metadata": {
        "colab": {
          "base_uri": "https://localhost:8080/"
        },
        "id": "U1R-CXnmIKy3",
        "outputId": "a5eacb42-7095-4b13-83c1-1307826ba50b"
      },
      "execution_count": 23,
      "outputs": [
        {
          "output_type": "stream",
          "name": "stdout",
          "text": [
            "100\n"
          ]
        }
      ]
    },
    {
      "cell_type": "code",
      "source": [
        "luas = lambda sisi : sisi*sisi\n",
        "\n",
        "x = int(input(\"masukan nilai\"))\n",
        "print(luas(x))"
      ],
      "metadata": {
        "colab": {
          "base_uri": "https://localhost:8080/"
        },
        "id": "zPzM1LABJYYk",
        "outputId": "6cc650b8-0f7e-4efb-9edf-64bbb553f064"
      },
      "execution_count": 30,
      "outputs": [
        {
          "output_type": "stream",
          "name": "stdout",
          "text": [
            "masukan nilai6\n",
            "36\n"
          ]
        }
      ]
    },
    {
      "cell_type": "code",
      "source": [
        "06 scope functian"
      ],
      "metadata": {
        "id": "7fjH0lTwLKVN"
      },
      "execution_count": null,
      "outputs": []
    },
    {
      "cell_type": "code",
      "source": [
        "x = 10\n",
        "\n",
        "def ubah():\n",
        "  x = 30\n",
        "\n",
        "print(x)"
      ],
      "metadata": {
        "id": "K8u1khEQLQzM"
      },
      "execution_count": null,
      "outputs": []
    },
    {
      "cell_type": "code",
      "source": [
        "x = 10\n",
        "\n",
        "def ubah():\n",
        "  global x\n",
        "  x = 30\n",
        "\n",
        "ubah()\n",
        "print(x)"
      ],
      "metadata": {
        "colab": {
          "base_uri": "https://localhost:8080/"
        },
        "id": "gU6gxod6Lirv",
        "outputId": "c0b88f55-9b60-4f18-8b1f-51f4f63c25f7"
      },
      "execution_count": 31,
      "outputs": [
        {
          "output_type": "stream",
          "name": "stdout",
          "text": [
            "30\n"
          ]
        }
      ]
    },
    {
      "cell_type": "code",
      "source": [
        "def luar():\n",
        "  x ="
      ],
      "metadata": {
        "id": "DLb9RKZnL6Im"
      },
      "execution_count": null,
      "outputs": []
    },
    {
      "cell_type": "code",
      "source": [
        "modularisasi(*)"
      ],
      "metadata": {
        "id": "tzcW73gOL7Ad"
      },
      "execution_count": null,
      "outputs": []
    },
    {
      "cell_type": "code",
      "source": [],
      "metadata": {
        "id": "2jGhmIhjOIGf"
      },
      "execution_count": null,
      "outputs": []
    }
  ]
}